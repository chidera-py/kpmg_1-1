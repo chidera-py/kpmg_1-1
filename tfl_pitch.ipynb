{
 "cells": [
  {
   "cell_type": "code",
   "execution_count": 1,
   "id": "0c5d744f",
   "metadata": {},
   "outputs": [],
   "source": [
    "import numpy as np\n",
    "import matplotlib.pyplot as plt"
   ]
  },
  {
   "cell_type": "code",
   "execution_count": 2,
   "id": "b93dc0fa",
   "metadata": {},
   "outputs": [],
   "source": [
    "#Setting up the inital parameters\n",
    "start = np.array([0,0])\n",
    "end = np.array([40,35])"
   ]
  },
  {
   "cell_type": "code",
   "execution_count": 3,
   "id": "627066e3",
   "metadata": {},
   "outputs": [],
   "source": [
    "#Initializing travel time\n",
    "time_taken = 0\n",
    "\n",
    "num_points = 20 # Number of vector points /number of stations\n",
    "min_value = 1   # Minimum value for x and y coordinates\n",
    "max_value = 50  # Maximum value for x and y coordinates"
   ]
  },
  {
   "cell_type": "code",
   "execution_count": 4,
   "id": "7f6b0612",
   "metadata": {},
   "outputs": [],
   "source": [
    "# Generate random 2D vector points within the specified range\n",
    "points = np.random.randint(min_value, max_value, size=(num_points, 2))\n",
    "\n",
    "# print(points)"
   ]
  },
  {
   "cell_type": "code",
   "execution_count": 5,
   "id": "f253b30c",
   "metadata": {},
   "outputs": [
    {
     "data": {
      "image/png": "[encoded data removed]",
      "text/plain": [
       "<Figure size 640x480 with 1 Axes>"
      ]
     },
     "metadata": {},
     "output_type": "display_data"
    }
   ],
   "source": [
    "# Extract x and y coordinates from the points array\n",
    "x = points[:, 0]\n",
    "y = points[:, 1]\n",
    "\n",
    "# Plot the points as a scatter plot\n",
    "plt.scatter(x, y, label = 'Stations')\n",
    "plt.scatter(start[0], start[1], color='red', label='Start')\n",
    "plt.scatter(end[0], end[1], color='green', label='End')\n",
    "\n",
    "plt.xlabel('X Coordinate')\n",
    "plt.ylabel('Y Coordinate')\n",
    "plt.title('Locations of all the stations')\n",
    "plt.show()"
   ]
  },
  {
   "cell_type": "code",
   "execution_count": 6,
   "id": "e7396604",
   "metadata": {},
   "outputs": [],
   "source": [
    "# Calculate Eucledian Distance\n",
    "\n",
    "#distance = round(np.sqrt((end[0] - start[0])**2 + (end[1] - start[1])**2))"
   ]
  },
  {
   "cell_type": "code",
   "execution_count": 7,
   "id": "73796953",
   "metadata": {},
   "outputs": [],
   "source": [
    "#min_dis = distance\n",
    "#min_point = None\n",
    "#new_start = start\n",
    "\n",
    "#for point in points:\n",
    " #   distance = round(np.sqrt((point[0] - start[0])**2 + (point[1] - start[1])**2))\n",
    "  #  if distance < min_dis:\n",
    "   #     min_dis = distance\n",
    "    #    min_point = point\n",
    "     #   new_start = point\n",
    "        \n",
    "\n",
    "#print(min_dis)\n",
    "#print(new_start)\n",
    "####"
   ]
  },
  {
   "cell_type": "code",
   "execution_count": 8,
   "id": "c480d0ba",
   "metadata": {},
   "outputs": [],
   "source": [
    "#for point in points: \n",
    " ##   distance = round(np.sqrt((point[0] - new_start[0])**2 + (point[1] - new_start[1])**2))\n",
    "   # if distance < min_dis\n",
    "#min_dis = distance\n",
    "    #    min_point = point\n",
    "     #   new_start = point\n",
    "\n",
    "#print(new_start)\n"
   ]
  },
  {
   "cell_type": "code",
   "execution_count": 10,
   "id": "8413b2fc",
   "metadata": {},
   "outputs": [
    {
     "name": "stdout",
     "output_type": "stream",
     "text": [
      "Minimum Distance: 8\n",
      "New Start Coordinates: [46 23]\n",
      "Total distance: 8\n"
     ]
    }
   ],
   "source": [
    "new_start = start\n",
    "total_dis = 0\n",
    "\n",
    "while (new_start != end).all():\n",
    "    min_dis = 100\n",
    "    min_point = None\n",
    "    \n",
    "    #Findind the nearest point\n",
    "    for point in points: \n",
    "        distance = round(np.sqrt((point[0] - new_start[0])**2 + (point[1] - new_start[1])**2))\n",
    "        \n",
    "        #Updating the minimum distance\n",
    "        if distance < min_dis:\n",
    "            min_dis = distance\n",
    "            min_point = point\n",
    "            new_start = point\n",
    "    \n",
    "    print(\"Minimum Distance:\", min_dis)\n",
    "    print(\"New Start Coordinates:\", new_start)\n",
    "    \n",
    "    #Update Total distance\n",
    "    total_dis += min_dis\n",
    "    \n",
    "    #Update start\n",
    "    start = new_start \n",
    "    \n",
    "    #Remove old start point\n",
    "    points = points[~np.all(points == min_point, axis=1)]  \n",
    "    \n",
    "    if (new_start == end).all:\n",
    "        break\n",
    "\n",
    "#print(\"Total distance:\", total_dis)"
   ]
  },
  {
   "cell_type": "code",
   "execution_count": null,
   "id": "6c9ff227",
   "metadata": {},
   "outputs": [],
   "source": []
  },
  {
   "cell_type": "code",
   "execution_count": null,
   "id": "819e54ba",
   "metadata": {},
   "outputs": [],
   "source": []
  }
 ],
 "metadata": {
  "kernelspec": {
   "display_name": "Python 3 (ipykernel)",
   "language": "python",
   "name": "python3"
  },
  "language_info": {
   "codemirror_mode": {
    "name": "ipython",
    "version": 3
   },
   "file_extension": ".py",
   "mimetype": "text/x-python",
   "name": "python",
   "nbconvert_exporter": "python",
   "pygments_lexer": "ipython3",
   "version": "3.9.13"
  }
 },
 "nbformat": 4,
 "nbformat_minor": 5
}
